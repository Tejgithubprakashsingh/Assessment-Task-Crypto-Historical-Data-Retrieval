{
 "cells": [
  {
   "cell_type": "code",
   "execution_count": 1,
   "metadata": {},
   "outputs": [
    {
     "name": "stdout",
     "output_type": "stream",
     "text": [
      "Price of bitcoin in usd: 67578\n",
      "Program interrupted by user.\n"
     ]
    }
   ],
   "source": [
    "import requests\n",
    "import time\n",
    "\n",
    "# Define variables\n",
    "ticker = 'bitcoin'\n",
    "currency = 'usd'\n",
    "api_key = 'CG-WRMmzZqKfjsyK2AKfd9YkUzR'\n",
    "\n",
    "# URL and headers\n",
    "url = f\"https://api.coingecko.com/api/v3/simple/price?ids={ticker}&vs_currencies={currency}\"\n",
    "headers = {\n",
    "    \"accept\": \"application/json\",\n",
    "    \"x-cg-demo-api-key\": api_key\n",
    "}\n",
    "\n",
    "# Retrieve prices in a loop with error handling\n",
    "try:\n",
    "    while True:\n",
    "        response = requests.get(url, headers=headers)\n",
    "        \n",
    "        # Check if the response was successful\n",
    "        if response.status_code == 200:\n",
    "            data = response.json()\n",
    "            last_price = data[ticker][currency]\n",
    "            print(f\"Price of {ticker} in {currency}: {last_price}\")\n",
    "        else:\n",
    "            print(\"Failed to retrieve data:\", response.status_code, response.text)\n",
    "        \n",
    "        # Wait 60 seconds before the next request\n",
    "        time.sleep(60)\n",
    "\n",
    "except KeyboardInterrupt:\n",
    "    print(\"Program interrupted by user.\")\n",
    "except Exception as e:\n",
    "    print(f\"An error occurred: {e}\")\n"
   ]
  },
  {
   "cell_type": "code",
   "execution_count": 1,
   "metadata": {},
   "outputs": [
    {
     "name": "stdout",
     "output_type": "stream",
     "text": [
      "          Date      Open      High       Low     Close\n",
      "0   2023-01-01  16531.31  16619.82  16502.85  16613.87\n",
      "1   2023-01-02  16613.87  16768.07  16544.15  16670.08\n",
      "2   2023-01-03  16670.08  16766.70  16605.01  16670.16\n",
      "3   2023-01-04  16670.16  16972.62  16651.02  16846.82\n",
      "4   2023-01-05  16846.82  16869.84  16764.64  16825.87\n",
      "..         ...       ...       ...       ...       ...\n",
      "668 2024-10-30  72723.67  72945.06  71408.40  72331.96\n",
      "669 2024-10-31  72331.96  72675.24  69585.02  70207.54\n",
      "670 2024-11-01  70207.54  71616.01  68755.75  69473.41\n",
      "671 2024-11-02  69473.41  69884.38  69006.88  69354.01\n",
      "672 2024-11-03  69354.01  69364.80  67845.35  68548.40\n",
      "\n",
      "[673 rows x 5 columns]\n"
     ]
    }
   ],
   "source": [
    "import pandas as pd\n",
    "import requests\n",
    "from datetime import datetime\n",
    "\n",
    "def fetch_crypto_data(crypto_pair, start_date, api_key):\n",
    "    # Parse the crypto_pair\n",
    "    coin, currency = crypto_pair.split('/')\n",
    "    \n",
    "    # Convert start_date to a datetime object and calculate the number of days since start_date\n",
    "    start_date_obj = datetime.strptime(start_date, \"%Y-%m-%d\")\n",
    "    days = (datetime.now() - start_date_obj).days\n",
    "    \n",
    "    # CryptoCompare endpoint for historical daily data\n",
    "    url = f\"https://min-api.cryptocompare.com/data/v2/histoday\"\n",
    "    \n",
    "    # Define parameters for the API request\n",
    "    params = {\n",
    "        'fsym': coin.upper(),\n",
    "        'tsym': currency.upper(),\n",
    "        'limit': days,  # Number of days since start_date\n",
    "        'toTs': int(datetime.now().timestamp()),  # To current date\n",
    "        'api_key': api_key\n",
    "    }\n",
    "    \n",
    "    # Fetch data from CryptoCompare API\n",
    "    response = requests.get(url, params=params)\n",
    "    \n",
    "    if response.status_code != 200:\n",
    "        raise Exception(f\"Error fetching data: {response.status_code}, {response.text}\")\n",
    "    \n",
    "    # Parse JSON data\n",
    "    data = response.json()['Data']['Data']\n",
    "    \n",
    "    # Convert the data to a DataFrame\n",
    "    df = pd.DataFrame(data)\n",
    "    df['Date'] = pd.to_datetime(df['time'], unit='s')\n",
    "    \n",
    "    # Select required columns and rename\n",
    "    df = df[['Date', 'open', 'high', 'low', 'close']]\n",
    "    df.columns = ['Date', 'Open', 'High', 'Low', 'Close']\n",
    "    \n",
    "    # Filter data from the specified start_date\n",
    "    df = df[df['Date'] >= start_date]\n",
    "    \n",
    "    return df\n",
    "\n",
    "# Example usage (replace 'YOUR_API_KEY' with your actual CryptoCompare API key)\n",
    "api_key = \"123d0d4d92c39b8718008f333cc712003f1ab8150795e6e1bfd5b6259350ba1b\"\n",
    "df = fetch_crypto_data(\"BTC/USD\", \"2023-01-01\", api_key)\n",
    "print(df)"
   ]
  }
 ],
 "metadata": {
  "kernelspec": {
   "display_name": "Python 3",
   "language": "python",
   "name": "python3"
  },
  "language_info": {
   "codemirror_mode": {
    "name": "ipython",
    "version": 3
   },
   "file_extension": ".py",
   "mimetype": "text/x-python",
   "name": "python",
   "nbconvert_exporter": "python",
   "pygments_lexer": "ipython3",
   "version": "3.11.4"
  }
 },
 "nbformat": 4,
 "nbformat_minor": 2
}
